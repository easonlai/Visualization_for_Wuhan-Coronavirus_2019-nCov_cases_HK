{
 "cells": [
  {
   "cell_type": "markdown",
   "metadata": {},
   "source": [
    "# Map visualization for Wuhan Coronavirus (2019-nCov) cases in Hong Kong"
   ]
  },
  {
   "cell_type": "markdown",
   "metadata": {},
   "source": [
    "Download open data \"List of buildings in which confirmed cases of novel coronavirus infection have stayed during the symptomatic phase in the past 14 days (English)\" from Centre for Health Protection Hong Kong (CHP)\n",
    "\n",
    "Other open data from CHP can be obtain from https://data.gov.hk/en-data/dataset/hk-dh-chpsebcddr-novel-infectious-agent"
   ]
  },
  {
   "cell_type": "code",
   "execution_count": 1,
   "metadata": {},
   "outputs": [],
   "source": [
    "import requests\n",
    "import io\n",
    "import pandas as pd\n",
    "\n",
    "response = requests.get('http://www.chp.gov.hk/files/misc/building_list_eng.csv')\n",
    "\n",
    "file_object = io.StringIO(response.content.decode('utf-8'))\n",
    "download_temp = pd.read_csv(file_object)\n",
    "download_temp.to_csv('building_list_eng.csv')"
   ]
  },
  {
   "cell_type": "code",
   "execution_count": 2,
   "metadata": {
    "scrolled": true
   },
   "outputs": [
    {
     "data": {
      "text/html": [
       "<div>\n",
       "<style scoped>\n",
       "    .dataframe tbody tr th:only-of-type {\n",
       "        vertical-align: middle;\n",
       "    }\n",
       "\n",
       "    .dataframe tbody tr th {\n",
       "        vertical-align: top;\n",
       "    }\n",
       "\n",
       "    .dataframe thead th {\n",
       "        text-align: right;\n",
       "    }\n",
       "</style>\n",
       "<table border=\"1\" class=\"dataframe\">\n",
       "  <thead>\n",
       "    <tr style=\"text-align: right;\">\n",
       "      <th></th>\n",
       "      <th>Unnamed: 0</th>\n",
       "      <th>District</th>\n",
       "      <th>Building name</th>\n",
       "      <th>Date of the last case staying in the building during the symptomatic phase</th>\n",
       "    </tr>\n",
       "  </thead>\n",
       "  <tbody>\n",
       "    <tr>\n",
       "      <td>0</td>\n",
       "      <td>0</td>\n",
       "      <td>Shatin</td>\n",
       "      <td>Alva Hotel by Royal</td>\n",
       "      <td>20/01/2020</td>\n",
       "    </tr>\n",
       "    <tr>\n",
       "      <td>1</td>\n",
       "      <td>1</td>\n",
       "      <td>Shatin</td>\n",
       "      <td>Tower 1A, Oceanaire</td>\n",
       "      <td>21/01/2020</td>\n",
       "    </tr>\n",
       "    <tr>\n",
       "      <td>2</td>\n",
       "      <td>2</td>\n",
       "      <td>Shatin</td>\n",
       "      <td>Tower 1, Lake Silver</td>\n",
       "      <td>23/01/2020</td>\n",
       "    </tr>\n",
       "    <tr>\n",
       "      <td>3</td>\n",
       "      <td>3</td>\n",
       "      <td>Tuen Mun</td>\n",
       "      <td>South Hillcrest</td>\n",
       "      <td>24/01/2020</td>\n",
       "    </tr>\n",
       "    <tr>\n",
       "      <td>4</td>\n",
       "      <td>4</td>\n",
       "      <td>Kwai Tsing</td>\n",
       "      <td>Hong Mei House, Cheung Hong Estate</td>\n",
       "      <td>24/01/2020</td>\n",
       "    </tr>\n",
       "  </tbody>\n",
       "</table>\n",
       "</div>"
      ],
      "text/plain": [
       "   Unnamed: 0    District                       Building name  \\\n",
       "0           0      Shatin                 Alva Hotel by Royal   \n",
       "1           1      Shatin                 Tower 1A, Oceanaire   \n",
       "2           2     Shatin                 Tower 1, Lake Silver   \n",
       "3           3    Tuen Mun                     South Hillcrest   \n",
       "4           4  Kwai Tsing  Hong Mei House, Cheung Hong Estate   \n",
       "\n",
       "  Date of the last case staying in the building during the symptomatic phase  \n",
       "0                                         20/01/2020                          \n",
       "1                                         21/01/2020                          \n",
       "2                                         23/01/2020                          \n",
       "3                                         24/01/2020                          \n",
       "4                                         24/01/2020                          "
      ]
     },
     "execution_count": 2,
     "metadata": {},
     "output_type": "execute_result"
    }
   ],
   "source": [
    "# Read data from file\n",
    "data = pd.read_csv(\"building_list_eng.csv\") \n",
    "\n",
    "# Preview the first 5 lines of the loaded data \n",
    "data.head()"
   ]
  },
  {
   "cell_type": "code",
   "execution_count": 3,
   "metadata": {},
   "outputs": [],
   "source": [
    "# Changing columns name for easier operation\n",
    "data.columns = ['ID','District','Building','Date']"
   ]
  },
  {
   "cell_type": "code",
   "execution_count": 4,
   "metadata": {},
   "outputs": [],
   "source": [
    "# As source data doesn't have indication for building' corrisponding region/country,\n",
    "# adding suffix for easier geo location search\n",
    "data['Building'] = data['Building'].astype(str) + ', Hong Kong'"
   ]
  },
  {
   "cell_type": "code",
   "execution_count": 5,
   "metadata": {},
   "outputs": [],
   "source": [
    "# Set column ID as Index\n",
    "data = data.set_index('ID')"
   ]
  },
  {
   "cell_type": "code",
   "execution_count": 6,
   "metadata": {},
   "outputs": [
    {
     "data": {
      "text/html": [
       "<div>\n",
       "<style scoped>\n",
       "    .dataframe tbody tr th:only-of-type {\n",
       "        vertical-align: middle;\n",
       "    }\n",
       "\n",
       "    .dataframe tbody tr th {\n",
       "        vertical-align: top;\n",
       "    }\n",
       "\n",
       "    .dataframe thead th {\n",
       "        text-align: right;\n",
       "    }\n",
       "</style>\n",
       "<table border=\"1\" class=\"dataframe\">\n",
       "  <thead>\n",
       "    <tr style=\"text-align: right;\">\n",
       "      <th></th>\n",
       "      <th>District</th>\n",
       "      <th>Building</th>\n",
       "      <th>Date</th>\n",
       "    </tr>\n",
       "    <tr>\n",
       "      <th>ID</th>\n",
       "      <th></th>\n",
       "      <th></th>\n",
       "      <th></th>\n",
       "    </tr>\n",
       "  </thead>\n",
       "  <tbody>\n",
       "    <tr>\n",
       "      <td>0</td>\n",
       "      <td>Shatin</td>\n",
       "      <td>Alva Hotel by Royal, Hong Kong</td>\n",
       "      <td>20/01/2020</td>\n",
       "    </tr>\n",
       "    <tr>\n",
       "      <td>1</td>\n",
       "      <td>Shatin</td>\n",
       "      <td>Tower 1A, Oceanaire, Hong Kong</td>\n",
       "      <td>21/01/2020</td>\n",
       "    </tr>\n",
       "    <tr>\n",
       "      <td>2</td>\n",
       "      <td>Shatin</td>\n",
       "      <td>Tower 1, Lake Silver, Hong Kong</td>\n",
       "      <td>23/01/2020</td>\n",
       "    </tr>\n",
       "    <tr>\n",
       "      <td>3</td>\n",
       "      <td>Tuen Mun</td>\n",
       "      <td>South Hillcrest, Hong Kong</td>\n",
       "      <td>24/01/2020</td>\n",
       "    </tr>\n",
       "    <tr>\n",
       "      <td>4</td>\n",
       "      <td>Kwai Tsing</td>\n",
       "      <td>Hong Mei House, Cheung Hong Estate, Hong Kong</td>\n",
       "      <td>24/01/2020</td>\n",
       "    </tr>\n",
       "    <tr>\n",
       "      <td>5</td>\n",
       "      <td>Eastern</td>\n",
       "      <td>Universal Towers, Hong Kong</td>\n",
       "      <td>25/01/2020</td>\n",
       "    </tr>\n",
       "    <tr>\n",
       "      <td>6</td>\n",
       "      <td>Sai Kung</td>\n",
       "      <td>Tower 2, Tseung Kwan O Plaza, Hong Kong</td>\n",
       "      <td>26/01/2020</td>\n",
       "    </tr>\n",
       "    <tr>\n",
       "      <td>7</td>\n",
       "      <td>Yau Tsim Mong</td>\n",
       "      <td>W Hong Kong, Hong Kong</td>\n",
       "      <td>28/01/2020</td>\n",
       "    </tr>\n",
       "    <tr>\n",
       "      <td>8</td>\n",
       "      <td>Central</td>\n",
       "      <td>Four Seasons Hotel , Hong Kong</td>\n",
       "      <td>28/01/2020</td>\n",
       "    </tr>\n",
       "    <tr>\n",
       "      <td>9</td>\n",
       "      <td>Yau Tsim Mong</td>\n",
       "      <td>Tower 2, The Coronation, Hong Kong</td>\n",
       "      <td>30/01/2020</td>\n",
       "    </tr>\n",
       "    <tr>\n",
       "      <td>10</td>\n",
       "      <td>Kwai Ching</td>\n",
       "      <td>Luk Kwai House, Kwai Chung Estate, Hong Kong</td>\n",
       "      <td>30/01/2020</td>\n",
       "    </tr>\n",
       "    <tr>\n",
       "      <td>11</td>\n",
       "      <td>Kowloon City</td>\n",
       "      <td>Block 1, Site 11, Whampoa Garden, Hong Kong</td>\n",
       "      <td>01/02/2020</td>\n",
       "    </tr>\n",
       "  </tbody>\n",
       "</table>\n",
       "</div>"
      ],
      "text/plain": [
       "         District                                       Building        Date\n",
       "ID                                                                          \n",
       "0          Shatin                 Alva Hotel by Royal, Hong Kong  20/01/2020\n",
       "1          Shatin                 Tower 1A, Oceanaire, Hong Kong  21/01/2020\n",
       "2         Shatin                 Tower 1, Lake Silver, Hong Kong  23/01/2020\n",
       "3        Tuen Mun                     South Hillcrest, Hong Kong  24/01/2020\n",
       "4      Kwai Tsing  Hong Mei House, Cheung Hong Estate, Hong Kong  24/01/2020\n",
       "5         Eastern                    Universal Towers, Hong Kong  25/01/2020\n",
       "6        Sai Kung        Tower 2, Tseung Kwan O Plaza, Hong Kong  26/01/2020\n",
       "7   Yau Tsim Mong                         W Hong Kong, Hong Kong  28/01/2020\n",
       "8        Central                  Four Seasons Hotel , Hong Kong  28/01/2020\n",
       "9   Yau Tsim Mong             Tower 2, The Coronation, Hong Kong  30/01/2020\n",
       "10     Kwai Ching   Luk Kwai House, Kwai Chung Estate, Hong Kong  30/01/2020\n",
       "11   Kowloon City    Block 1, Site 11, Whampoa Garden, Hong Kong  01/02/2020"
      ]
     },
     "execution_count": 6,
     "metadata": {},
     "output_type": "execute_result"
    }
   ],
   "source": [
    "# Preview all data\n",
    "data"
   ]
  },
  {
   "cell_type": "code",
   "execution_count": 7,
   "metadata": {},
   "outputs": [],
   "source": [
    "# Install necessary libraries for map visualization\n",
    "# !pip install geopandas\n",
    "# !pip install geopy\n",
    "# !pip install folium"
   ]
  },
  {
   "cell_type": "code",
   "execution_count": 8,
   "metadata": {},
   "outputs": [],
   "source": [
    "# Import necessary libraries for map visualization\n",
    "import geopandas as gpd\n",
    "import geopy\n",
    "from geopy import geocoders\n",
    "from geopy.geocoders import GoogleV3\n",
    "from geopy.extra.rate_limiter import RateLimiter"
   ]
  },
  {
   "cell_type": "code",
   "execution_count": 9,
   "metadata": {},
   "outputs": [],
   "source": [
    "# Using address in Building column to search for geotag\n",
    "\n",
    "# 1 - Function to delay between geocoding calls\n",
    "g = geocoders.GoogleV3(api_key='PLEASE-ENTER-YOUR-OWN-GOOGLE-MAP-API-KEY')\n",
    "geocode = RateLimiter(g.geocode, min_delay_seconds=5)\n",
    "# 2- - Using address in Building column to search for geotag and append in column\n",
    "data['Building'] = data['Building'].apply(geocode)\n",
    "# 3 - Create GeoTag column which contain longitude, laatitude and altitude from Building column geotag result search \n",
    "data['GeoTag'] = data['Building'].apply(lambda loc: tuple(loc.point) if loc else None)\n",
    "# 4 - Split GeoTag column into latitude, longitude and altitude columns\n",
    "data[['latitude', 'longitude', 'altitude']] = pd.DataFrame(data['GeoTag'].tolist(), index=data.index)"
   ]
  },
  {
   "cell_type": "code",
   "execution_count": 10,
   "metadata": {},
   "outputs": [
    {
     "data": {
      "text/html": [
       "<div>\n",
       "<style scoped>\n",
       "    .dataframe tbody tr th:only-of-type {\n",
       "        vertical-align: middle;\n",
       "    }\n",
       "\n",
       "    .dataframe tbody tr th {\n",
       "        vertical-align: top;\n",
       "    }\n",
       "\n",
       "    .dataframe thead th {\n",
       "        text-align: right;\n",
       "    }\n",
       "</style>\n",
       "<table border=\"1\" class=\"dataframe\">\n",
       "  <thead>\n",
       "    <tr style=\"text-align: right;\">\n",
       "      <th></th>\n",
       "      <th>District</th>\n",
       "      <th>Building</th>\n",
       "      <th>Date</th>\n",
       "      <th>GeoTag</th>\n",
       "      <th>latitude</th>\n",
       "      <th>longitude</th>\n",
       "      <th>altitude</th>\n",
       "    </tr>\n",
       "    <tr>\n",
       "      <th>ID</th>\n",
       "      <th></th>\n",
       "      <th></th>\n",
       "      <th></th>\n",
       "      <th></th>\n",
       "      <th></th>\n",
       "      <th></th>\n",
       "      <th></th>\n",
       "    </tr>\n",
       "  </thead>\n",
       "  <tbody>\n",
       "    <tr>\n",
       "      <td>0</td>\n",
       "      <td>Shatin</td>\n",
       "      <td>(1 Yuen Hong St, Sha Tin, Hong Kong, (22.38352...</td>\n",
       "      <td>20/01/2020</td>\n",
       "      <td>(22.3835259, 114.2082408, 0.0)</td>\n",
       "      <td>22.383526</td>\n",
       "      <td>114.208241</td>\n",
       "      <td>0.0</td>\n",
       "    </tr>\n",
       "    <tr>\n",
       "      <td>1</td>\n",
       "      <td>Shatin</td>\n",
       "      <td>(Oceanaire Tower 1a, 18 Po Tai St, Ma On Shan,...</td>\n",
       "      <td>21/01/2020</td>\n",
       "      <td>(22.4151657, 114.2230053, 0.0)</td>\n",
       "      <td>22.415166</td>\n",
       "      <td>114.223005</td>\n",
       "      <td>0.0</td>\n",
       "    </tr>\n",
       "    <tr>\n",
       "      <td>2</td>\n",
       "      <td>Shatin</td>\n",
       "      <td>(Lake Silver Tower 1, 599 Sai Sha Rd, Lake Sil...</td>\n",
       "      <td>23/01/2020</td>\n",
       "      <td>(22.428605, 114.2430898, 0.0)</td>\n",
       "      <td>22.428605</td>\n",
       "      <td>114.243090</td>\n",
       "      <td>0.0</td>\n",
       "    </tr>\n",
       "    <tr>\n",
       "      <td>3</td>\n",
       "      <td>Tuen Mun</td>\n",
       "      <td>(South Hillcrest, 3 Tuen Kwai Rd, Tuen Mun, Ho...</td>\n",
       "      <td>24/01/2020</td>\n",
       "      <td>(22.412407, 113.9837095, 0.0)</td>\n",
       "      <td>22.412407</td>\n",
       "      <td>113.983710</td>\n",
       "      <td>0.0</td>\n",
       "    </tr>\n",
       "    <tr>\n",
       "      <td>4</td>\n",
       "      <td>Kwai Tsing</td>\n",
       "      <td>(12 Ching Hong Rd, Tsing Yi, Hong Kong, (22.35...</td>\n",
       "      <td>24/01/2020</td>\n",
       "      <td>(22.350358, 114.099329, 0.0)</td>\n",
       "      <td>22.350358</td>\n",
       "      <td>114.099329</td>\n",
       "      <td>0.0</td>\n",
       "    </tr>\n",
       "    <tr>\n",
       "      <td>5</td>\n",
       "      <td>Eastern</td>\n",
       "      <td>(Universal Towers, 18-26 Kin Wah St, North Poi...</td>\n",
       "      <td>25/01/2020</td>\n",
       "      <td>(22.2892024, 114.1973237, 0.0)</td>\n",
       "      <td>22.289202</td>\n",
       "      <td>114.197324</td>\n",
       "      <td>0.0</td>\n",
       "    </tr>\n",
       "    <tr>\n",
       "      <td>6</td>\n",
       "      <td>Sai Kung</td>\n",
       "      <td>(Tseung Kwan O Plaza Tower 2, 1 Tong Tak St, T...</td>\n",
       "      <td>26/01/2020</td>\n",
       "      <td>(22.3094024, 114.2625697, 0.0)</td>\n",
       "      <td>22.309402</td>\n",
       "      <td>114.262570</td>\n",
       "      <td>0.0</td>\n",
       "    </tr>\n",
       "    <tr>\n",
       "      <td>7</td>\n",
       "      <td>Yau Tsim Mong</td>\n",
       "      <td>(1 Austin Road West Kowloon Station, Yau Ma Te...</td>\n",
       "      <td>28/01/2020</td>\n",
       "      <td>(22.3049382, 114.160669, 0.0)</td>\n",
       "      <td>22.304938</td>\n",
       "      <td>114.160669</td>\n",
       "      <td>0.0</td>\n",
       "    </tr>\n",
       "    <tr>\n",
       "      <td>8</td>\n",
       "      <td>Central</td>\n",
       "      <td>(8 Finance St, Central, Hong Kong, (22.2864877...</td>\n",
       "      <td>28/01/2020</td>\n",
       "      <td>(22.2864877, 114.1569068, 0.0)</td>\n",
       "      <td>22.286488</td>\n",
       "      <td>114.156907</td>\n",
       "      <td>0.0</td>\n",
       "    </tr>\n",
       "    <tr>\n",
       "      <td>9</td>\n",
       "      <td>Yau Tsim Mong</td>\n",
       "      <td>(The Coronation Tower 2, 1 Yau Cheung Rd, Yau ...</td>\n",
       "      <td>30/01/2020</td>\n",
       "      <td>(22.3095813, 114.165533, 0.0)</td>\n",
       "      <td>22.309581</td>\n",
       "      <td>114.165533</td>\n",
       "      <td>0.0</td>\n",
       "    </tr>\n",
       "    <tr>\n",
       "      <td>10</td>\n",
       "      <td>Kwai Ching</td>\n",
       "      <td>(Luk Kwai House Kwai Chung Estate, Kwai Chung,...</td>\n",
       "      <td>30/01/2020</td>\n",
       "      <td>(22.3681253, 114.1283239, 0.0)</td>\n",
       "      <td>22.368125</td>\n",
       "      <td>114.128324</td>\n",
       "      <td>0.0</td>\n",
       "    </tr>\n",
       "    <tr>\n",
       "      <td>11</td>\n",
       "      <td>Kowloon City</td>\n",
       "      <td>(Block 1, Site, 11 Whampoa St, Hung Hom, Hong ...</td>\n",
       "      <td>01/02/2020</td>\n",
       "      <td>(22.30622, 114.18449, 0.0)</td>\n",
       "      <td>22.306220</td>\n",
       "      <td>114.184490</td>\n",
       "      <td>0.0</td>\n",
       "    </tr>\n",
       "  </tbody>\n",
       "</table>\n",
       "</div>"
      ],
      "text/plain": [
       "         District                                           Building  \\\n",
       "ID                                                                     \n",
       "0          Shatin  (1 Yuen Hong St, Sha Tin, Hong Kong, (22.38352...   \n",
       "1          Shatin  (Oceanaire Tower 1a, 18 Po Tai St, Ma On Shan,...   \n",
       "2         Shatin   (Lake Silver Tower 1, 599 Sai Sha Rd, Lake Sil...   \n",
       "3        Tuen Mun  (South Hillcrest, 3 Tuen Kwai Rd, Tuen Mun, Ho...   \n",
       "4      Kwai Tsing  (12 Ching Hong Rd, Tsing Yi, Hong Kong, (22.35...   \n",
       "5         Eastern  (Universal Towers, 18-26 Kin Wah St, North Poi...   \n",
       "6        Sai Kung  (Tseung Kwan O Plaza Tower 2, 1 Tong Tak St, T...   \n",
       "7   Yau Tsim Mong  (1 Austin Road West Kowloon Station, Yau Ma Te...   \n",
       "8        Central   (8 Finance St, Central, Hong Kong, (22.2864877...   \n",
       "9   Yau Tsim Mong  (The Coronation Tower 2, 1 Yau Cheung Rd, Yau ...   \n",
       "10     Kwai Ching  (Luk Kwai House Kwai Chung Estate, Kwai Chung,...   \n",
       "11   Kowloon City  (Block 1, Site, 11 Whampoa St, Hung Hom, Hong ...   \n",
       "\n",
       "          Date                          GeoTag   latitude   longitude  \\\n",
       "ID                                                                      \n",
       "0   20/01/2020  (22.3835259, 114.2082408, 0.0)  22.383526  114.208241   \n",
       "1   21/01/2020  (22.4151657, 114.2230053, 0.0)  22.415166  114.223005   \n",
       "2   23/01/2020   (22.428605, 114.2430898, 0.0)  22.428605  114.243090   \n",
       "3   24/01/2020   (22.412407, 113.9837095, 0.0)  22.412407  113.983710   \n",
       "4   24/01/2020    (22.350358, 114.099329, 0.0)  22.350358  114.099329   \n",
       "5   25/01/2020  (22.2892024, 114.1973237, 0.0)  22.289202  114.197324   \n",
       "6   26/01/2020  (22.3094024, 114.2625697, 0.0)  22.309402  114.262570   \n",
       "7   28/01/2020   (22.3049382, 114.160669, 0.0)  22.304938  114.160669   \n",
       "8   28/01/2020  (22.2864877, 114.1569068, 0.0)  22.286488  114.156907   \n",
       "9   30/01/2020   (22.3095813, 114.165533, 0.0)  22.309581  114.165533   \n",
       "10  30/01/2020  (22.3681253, 114.1283239, 0.0)  22.368125  114.128324   \n",
       "11  01/02/2020      (22.30622, 114.18449, 0.0)  22.306220  114.184490   \n",
       "\n",
       "    altitude  \n",
       "ID            \n",
       "0        0.0  \n",
       "1        0.0  \n",
       "2        0.0  \n",
       "3        0.0  \n",
       "4        0.0  \n",
       "5        0.0  \n",
       "6        0.0  \n",
       "7        0.0  \n",
       "8        0.0  \n",
       "9        0.0  \n",
       "10       0.0  \n",
       "11       0.0  "
      ]
     },
     "execution_count": 10,
     "metadata": {},
     "output_type": "execute_result"
    }
   ],
   "source": [
    "# Preview all data again\n",
    "data"
   ]
  },
  {
   "cell_type": "code",
   "execution_count": 13,
   "metadata": {
    "scrolled": false
   },
   "outputs": [
    {
     "data": {
      "text/html": [
       "<div style=\"width:100%;\"><div style=\"position:relative;width:100%;height:0;padding-bottom:60%;\"><iframe src=\"data:text/html;charset=utf-8;base64,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\" style=\"position:absolute;width:100%;height:100%;left:0;top:0;border:none !important;\" allowfullscreen webkitallowfullscreen mozallowfullscreen></iframe></div></div>"
      ],
      "text/plain": [
       "<folium.folium.Map at 0x21c6dc8a348>"
      ]
     },
     "execution_count": 13,
     "metadata": {},
     "output_type": "execute_result"
    }
   ],
   "source": [
    "# Plotting map by folium\n",
    "import folium\n",
    "\n",
    "map1 = folium.Map(\n",
    "    location=[22.28552, 114.15769],\n",
    "    tiles='CartoDB dark_matter',\n",
    "    zoom_start=11,\n",
    ")\n",
    "\n",
    "tooltip = 'Location'\n",
    "\n",
    "data.apply(lambda row:folium.CircleMarker(location=[row[\"latitude\"], row[\"longitude\"]],color='red', popup=row[\"Building\"], tooltip=tooltip).add_to(map1), axis=1)\n",
    "map1"
   ]
  },
  {
   "cell_type": "code",
   "execution_count": 14,
   "metadata": {},
   "outputs": [],
   "source": [
    "# Save a map in html as well\n",
    "map1.save(\"map1.html\")"
   ]
  },
  {
   "cell_type": "code",
   "execution_count": 20,
   "metadata": {},
   "outputs": [
    {
     "data": {
      "text/html": [
       "<div style=\"width:100%;\"><div style=\"position:relative;width:100%;height:0;padding-bottom:60%;\"><iframe src=\"data:text/html;charset=utf-8;base64,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\" style=\"position:absolute;width:100%;height:100%;left:0;top:0;border:none !important;\" allowfullscreen webkitallowfullscreen mozallowfullscreen></iframe></div></div>"
      ],
      "text/plain": [
       "<folium.folium.Map at 0x21c6dc12208>"
      ]
     },
     "execution_count": 20,
     "metadata": {},
     "output_type": "execute_result"
    }
   ],
   "source": [
    "# Plotting map by folium plugin FastMarkerCluster to make data clustering visualization\n",
    "from folium.plugins import FastMarkerCluster\n",
    "\n",
    "map2 = folium.Map(location=[22.28552, 114.15769],\n",
    "                        zoom_start=12,\n",
    "                        tiles='CartoDB dark_matter')\n",
    "\n",
    "FastMarkerCluster(data=list(zip(data['latitude'].values, data['longitude'].values))).add_to(map2)\n",
    "folium.LayerControl().add_to(map2)\n",
    "\n",
    "map2"
   ]
  },
  {
   "cell_type": "code",
   "execution_count": 21,
   "metadata": {},
   "outputs": [],
   "source": [
    "# Save a map in html as well\n",
    "map2.save(\"map2.html\")"
   ]
  },
  {
   "cell_type": "markdown",
   "metadata": {},
   "source": [
    "Quick checking GeoTag Helper"
   ]
  },
  {
   "cell_type": "code",
   "execution_count": 47,
   "metadata": {},
   "outputs": [],
   "source": [
    "# Import necessary libraries for map visualization\n",
    "import geopandas as gpd\n",
    "import geopy\n",
    "from geopy.geocoders import Nominatim\n",
    "from geopy.extra.rate_limiter import RateLimiter"
   ]
  },
  {
   "cell_type": "code",
   "execution_count": 48,
   "metadata": {},
   "outputs": [],
   "source": [
    "# Using Geocoder \"Nominatim OpenStreetMap\"\n",
    "locator = Nominatim(user_agent=\"GeoTag\")\n",
    "location = locator.geocode(\"Tower 1A, Oceanaire, Hong Kong\")"
   ]
  },
  {
   "cell_type": "code",
   "execution_count": 49,
   "metadata": {},
   "outputs": [
    {
     "ename": "AttributeError",
     "evalue": "'NoneType' object has no attribute 'latitude'",
     "output_type": "error",
     "traceback": [
      "\u001b[1;31m---------------------------------------------------------------------------\u001b[0m",
      "\u001b[1;31mAttributeError\u001b[0m                            Traceback (most recent call last)",
      "\u001b[1;32m<ipython-input-49-92f30300076f>\u001b[0m in \u001b[0;36m<module>\u001b[1;34m\u001b[0m\n\u001b[1;32m----> 1\u001b[1;33m \u001b[0mprint\u001b[0m\u001b[1;33m(\u001b[0m\u001b[1;34m\"Latitude = {}, Longitude = {}\"\u001b[0m\u001b[1;33m.\u001b[0m\u001b[0mformat\u001b[0m\u001b[1;33m(\u001b[0m\u001b[0mlocation\u001b[0m\u001b[1;33m.\u001b[0m\u001b[0mlatitude\u001b[0m\u001b[1;33m,\u001b[0m \u001b[0mlocation\u001b[0m\u001b[1;33m.\u001b[0m\u001b[0mlongitude\u001b[0m\u001b[1;33m)\u001b[0m\u001b[1;33m)\u001b[0m\u001b[1;33m\u001b[0m\u001b[1;33m\u001b[0m\u001b[0m\n\u001b[0m",
      "\u001b[1;31mAttributeError\u001b[0m: 'NoneType' object has no attribute 'latitude'"
     ]
    }
   ],
   "source": [
    "print(\"Latitude = {}, Longitude = {}\".format(location.latitude, location.longitude))"
   ]
  },
  {
   "cell_type": "code",
   "execution_count": 60,
   "metadata": {},
   "outputs": [
    {
     "name": "stdout",
     "output_type": "stream",
     "text": [
      "22.4151657 114.2230053\n"
     ]
    }
   ],
   "source": [
    "# Using Geocoder \"Google Map API\"\n",
    "from geopy import geocoders\n",
    "g = geocoders.GoogleV3(api_key='PLEASE-ENTER-YOUR-OWN-GOOGLE-MAP-API-KEY')\n",
    "\n",
    "#create an input address string\n",
    "#you can also build this by reading from an input database and building a string\n",
    "\n",
    "inputAddress = 'Tower 1A, Oceanaire, Hong Kong' \n",
    "\n",
    "#do the geocode\n",
    "location = g.geocode(inputAddress, timeout=10)\n",
    "\n",
    "#some things you can get from the result\n",
    "print(location.latitude, location.longitude)"
   ]
  },
  {
   "cell_type": "code",
   "execution_count": null,
   "metadata": {},
   "outputs": [],
   "source": []
  }
 ],
 "metadata": {
  "kernelspec": {
   "display_name": "Python 3",
   "language": "python",
   "name": "python3"
  },
  "language_info": {
   "codemirror_mode": {
    "name": "ipython",
    "version": 3
   },
   "file_extension": ".py",
   "mimetype": "text/x-python",
   "name": "python",
   "nbconvert_exporter": "python",
   "pygments_lexer": "ipython3",
   "version": "3.7.4"
  }
 },
 "nbformat": 4,
 "nbformat_minor": 2
}
